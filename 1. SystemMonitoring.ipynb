{
 "cells": [
  {
   "cell_type": "markdown",
   "id": "34aa2f88",
   "metadata": {},
   "source": [
    "[psutil library](https://pypi.org/project/psutil/)"
   ]
  },
  {
   "cell_type": "code",
   "execution_count": 4,
   "id": "7571e2eb",
   "metadata": {},
   "outputs": [
    {
     "name": "stdout",
     "output_type": "stream",
     "text": [
      "Memory Used: 20.5%\n",
      "Disk Used: 86.9%\n",
      "Bytes Sent: 30211761078, Bytes Received: 31022845132\n"
     ]
    }
   ],
   "source": [
    "import psutil\n",
    "\n",
    "# CPU Usage\n",
    "cpu_percent = psutil.cpu_percent(interval=1)  # Overall CPU usage\n",
    "cpu_per_core = psutil.cpu_percent(interval=1, percpu=True)  # Per-core usage\n",
    "\n",
    "# Memory Usage\n",
    "mem = psutil.virtual_memory()\n",
    "print(f\"Memory Used: {mem.percent}%\")\n",
    "\n",
    "# Disk Usage\n",
    "disk = psutil.disk_usage('/')\n",
    "print(f\"Disk Used: {disk.percent}%\")\n",
    "\n",
    "# Network Usage\n",
    "net = psutil.net_io_counters()\n",
    "print(f\"Bytes Sent: {net.bytes_sent}, Bytes Received: {net.bytes_recv}\")"
   ]
  },
  {
   "cell_type": "markdown",
   "id": "b544da7c",
   "metadata": {},
   "source": [
    "[resource Lib](https://docs.python.org/3/library/resource.html#resource-usage)"
   ]
  },
  {
   "cell_type": "code",
   "execution_count": 2,
   "id": "4344b7e9",
   "metadata": {},
   "outputs": [
    {
     "name": "stdout",
     "output_type": "stream",
     "text": [
      "resource.struct_rusage(ru_utime=0.373981, ru_stime=0.067524, ru_maxrss=174964, ru_ixrss=0, ru_idrss=0, ru_isrss=0, ru_minflt=11720, ru_majflt=0, ru_nswap=0, ru_inblock=0, ru_oublock=200, ru_msgsnd=0, ru_msgrcv=0, ru_nsignals=0, ru_nvcsw=662, ru_nivcsw=8)\n",
      "resource.struct_rusage(ru_utime=4.394571, ru_stime=0.067524, ru_maxrss=174964, ru_ixrss=0, ru_idrss=0, ru_isrss=0, ru_minflt=11722, ru_majflt=0, ru_nswap=0, ru_inblock=0, ru_oublock=200, ru_msgsnd=0, ru_msgrcv=0, ru_nsignals=0, ru_nvcsw=690, ru_nivcsw=24)\n"
     ]
    }
   ],
   "source": [
    "from resource import *\n",
    "import time\n",
    "\n",
    "# a non CPU-bound task\n",
    "time.sleep(3)\n",
    "print(getrusage(RUSAGE_SELF))\n",
    "\n",
    "# a CPU-bound task\n",
    "for i in range(10 ** 8):\n",
    "   _ = 1 + 1\n",
    "print(getrusage(RUSAGE_SELF))"
   ]
  },
  {
   "cell_type": "markdown",
   "id": "68d375d0",
   "metadata": {},
   "source": [
    "[time library](https://docs.python.org/3/library/time.html)"
   ]
  },
  {
   "cell_type": "code",
   "execution_count": 5,
   "id": "0a336da8",
   "metadata": {},
   "outputs": [
    {
     "name": "stdout",
     "output_type": "stream",
     "text": [
      "Execution Time: 0.00s\n"
     ]
    }
   ],
   "source": [
    "import time\n",
    "\n",
    "start_time = time.time()\n",
    "# Code to monitor\n",
    "elapsed_time = time.time() - start_time\n",
    "print(f\"Execution Time: {elapsed_time:.2f}s\")"
   ]
  },
  {
   "cell_type": "markdown",
   "id": "77fec312",
   "metadata": {},
   "source": [
    "[timeit library](https://docs.python.org/3/library/timeit.html)"
   ]
  },
  {
   "cell_type": "code",
   "execution_count": 6,
   "id": "7c1999ee",
   "metadata": {},
   "outputs": [
    {
     "name": "stdout",
     "output_type": "stream",
     "text": [
      "Time: 0.1574s\n"
     ]
    }
   ],
   "source": [
    "import timeit\n",
    "\n",
    "execution_time = timeit.timeit('\"-\".join(str(n) for n in range(100))', number=10000)\n",
    "print(f\"Time: {execution_time:.4f}s\")"
   ]
  },
  {
   "cell_type": "markdown",
   "id": "3fa5117a",
   "metadata": {},
   "source": [
    "[CProfile library](https://docs.python.org/3/library/profile.html)"
   ]
  },
  {
   "cell_type": "code",
   "execution_count": 7,
   "id": "bfb42148",
   "metadata": {},
   "outputs": [
    {
     "name": "stdout",
     "output_type": "stream",
     "text": [
      "         39 function calls in 0.000 seconds\n",
      "\n",
      "   Ordered by: cumulative time\n",
      "\n",
      "   ncalls  tottime  percall  cumtime  percall filename:lineno(function)\n",
      "        2    0.000    0.000    0.000    0.000 codeop.py:117(__call__)\n",
      "        2    0.000    0.000    0.000    0.000 {built-in method builtins.compile}\n",
      "        2    0.000    0.000    0.000    0.000 interactiveshell.py:3517(run_code)\n",
      "        2    0.000    0.000    0.000    0.000 contextlib.py:279(helper)\n",
      "        2    0.000    0.000    0.000    0.000 {built-in method builtins.exec}\n",
      "        2    0.000    0.000    0.000    0.000 contextlib.py:130(__enter__)\n",
      "        4    0.000    0.000    0.000    0.000 {built-in method builtins.next}\n",
      "        2    0.000    0.000    0.000    0.000 contextlib.py:139(__exit__)\n",
      "        2    0.000    0.000    0.000    0.000 contextlib.py:102(__init__)\n",
      "        4    0.000    0.000    0.000    0.000 compilerop.py:180(extra_flags)\n",
      "        2    0.000    0.000    0.000    0.000 traitlets.py:692(__get__)\n",
      "        2    0.000    0.000    0.000    0.000 interactiveshell.py:3469(compare)\n",
      "        2    0.000    0.000    0.000    0.000 traitlets.py:654(get)\n",
      "        4    0.000    0.000    0.000    0.000 {built-in method builtins.getattr}\n",
      "        1    0.000    0.000    0.000    0.000 3683919164.py:1(<module>)\n",
      "        2    0.000    0.000    0.000    0.000 interactiveshell.py:1255(user_global_ns)\n",
      "        1    0.000    0.000    0.000    0.000 {method 'disable' of '_lsprof.Profiler' objects}\n",
      "        1    0.000    0.000    0.000    0.000 3683919164.py:3(my_function)\n",
      "\n",
      "\n"
     ]
    }
   ],
   "source": [
    "import cProfile\n",
    "\n",
    "def my_function():\n",
    "    # Code to profile\n",
    "    pass\n",
    "\n",
    "profiler = cProfile.Profile()\n",
    "profiler.enable()\n",
    "my_function()\n",
    "profiler.disable()\n",
    "profiler.print_stats(sort='cumtime')  # Sort by cumulative time"
   ]
  },
  {
   "cell_type": "markdown",
   "id": "dde9d848",
   "metadata": {},
   "source": [
    "[pyinstrument library](https://pyinstrument.readthedocs.io/en/latest/)"
   ]
  },
  {
   "cell_type": "code",
   "execution_count": null,
   "id": "06c52518",
   "metadata": {},
   "outputs": [],
   "source": [
    "# ! pip install pyinstrument"
   ]
  },
  {
   "cell_type": "code",
   "execution_count": 10,
   "id": "078f3d80",
   "metadata": {},
   "outputs": [
    {
     "name": "stdout",
     "output_type": "stream",
     "text": [
      "\n",
      "  _     ._   __/__   _ _  _  _ _/_   Recorded: 10:01:52  Samples:  1\n",
      " /_//_/// /_\\ / //_// / //_'/ //     Duration: 0.004     CPU time: 0.004\n",
      "/   _/                      v5.0.1\n",
      "\n",
      "Profile at /tmp/ipykernel_62722/3413561063.py:4\n",
      "\n",
      "\u001b[31m0.002\u001b[0m ZMQInteractiveShell.run_ast_nodes\u001b[0m  \u001b[2mIPython/core/interactiveshell.py:3394\u001b[0m\n",
      "└─ \u001b[31m0.002\u001b[0m _GeneratorContextManager.__exit__\u001b[0m  \u001b[2mcontextlib.py:139\u001b[0m\n",
      "   └─ \u001b[31m0.002\u001b[0m next\u001b[0m  \u001b[2m<built-in>\u001b[0m\n",
      "\n",
      "\n"
     ]
    }
   ],
   "source": [
    "from pyinstrument import Profiler\n",
    "\n",
    "profiler = Profiler()\n",
    "profiler.start()\n",
    "for i in range (10000):\n",
    "    continue\n",
    "profiler.stop()\n",
    "print(profiler.output_text(unicode=True, color=True))"
   ]
  },
  {
   "cell_type": "code",
   "execution_count": 11,
   "id": "d91f9134",
   "metadata": {},
   "outputs": [
    {
     "name": "stdout",
     "output_type": "stream",
     "text": [
      "Collecting memory-profiler\n",
      "  Downloading memory_profiler-0.61.0-py3-none-any.whl.metadata (20 kB)\n",
      "Requirement already satisfied: psutil in /usr/local/lib/python3.10/dist-packages (from memory-profiler) (5.9.4)\n",
      "Downloading memory_profiler-0.61.0-py3-none-any.whl (31 kB)\n",
      "Installing collected packages: memory-profiler\n",
      "Successfully installed memory-profiler-0.61.0\n",
      "\u001b[33mWARNING: Running pip as the 'root' user can result in broken permissions and conflicting behaviour with the system package manager. It is recommended to use a virtual environment instead: https://pip.pypa.io/warnings/venv\u001b[0m\u001b[33m\n",
      "\u001b[0m"
     ]
    }
   ],
   "source": [
    "! pip install memory-profiler"
   ]
  },
  {
   "cell_type": "code",
   "execution_count": 30,
   "id": "ac40995e",
   "metadata": {},
   "outputs": [],
   "source": [
    "from memory_profiler import profile\n",
    "import pandas as pd\n",
    "import numpy as np"
   ]
  },
  {
   "cell_type": "code",
   "execution_count": 31,
   "id": "105240fa",
   "metadata": {},
   "outputs": [
    {
     "name": "stdout",
     "output_type": "stream",
     "text": [
      "ERROR: Could not find file /tmp/ipykernel_62722/2205650427.py\n"
     ]
    }
   ],
   "source": [
    "@profile\n",
    "def my_memory_heavy_function():\n",
    "    num_rows = 1000000  # Example: 1 million rows\n",
    "    num_cols = 10       # Example: 10 columns\n",
    "    data = np.random.rand(num_rows, num_cols) # Generates random numbers between 0 and 1\n",
    "    df = pd.DataFrame(data)\n",
    "    df.columns = ['col_' + str(i) for i in range(num_cols)]\n",
    "    pass\n",
    "\n",
    "my_memory_heavy_function()"
   ]
  },
  {
   "cell_type": "markdown",
   "id": "c1b8597e",
   "metadata": {},
   "source": [
    "# Must run directly via python"
   ]
  },
  {
   "cell_type": "code",
   "execution_count": 32,
   "id": "980e73f0",
   "metadata": {},
   "outputs": [
    {
     "name": "stdout",
     "output_type": "stream",
     "text": [
      "Filename: memprofile.py\n",
      "\n",
      "Line #    Mem usage    Increment  Occurrences   Line Contents\n",
      "=============================================================\n",
      "     4    107.6 MiB    107.6 MiB           1   @profile\n",
      "     5                                         def my_memory_heavy_function():\n",
      "     6    107.6 MiB      0.0 MiB           1       num_rows = 1000000  # Example: 1 million rows\n",
      "     7    107.6 MiB      0.0 MiB           1       num_cols = 10       # Example: 10 columns\n",
      "     8    183.8 MiB     76.3 MiB           1       data = np.random.rand(num_rows, num_cols) # Generates random numbers between 0 and 1\n",
      "     9    184.0 MiB      0.1 MiB           1       df = pd.DataFrame(data)\n",
      "    10    184.2 MiB      0.2 MiB          13       df.columns = ['col_' + str(i) for i in range(num_cols)]\n",
      "    11    184.2 MiB      0.0 MiB           1       pass\n",
      "\n",
      "\n"
     ]
    }
   ],
   "source": [
    "! python -m memory_profiler memprofile.py"
   ]
  },
  {
   "cell_type": "markdown",
   "id": "b58904b9",
   "metadata": {},
   "source": [
    "[tracemalloc library](https://docs.python.org/3/library/tracemalloc.html)"
   ]
  },
  {
   "cell_type": "code",
   "execution_count": 34,
   "id": "d4dacefa",
   "metadata": {},
   "outputs": [
    {
     "name": "stdout",
     "output_type": "stream",
     "text": [
      "/tmp/ipykernel_62722/1644379772.py:8: size=76.3 MiB (+76.3 MiB), count=2 (+2), average=38.1 MiB\n",
      "/usr/local/lib/python3.10/dist-packages/pandas/core/indexes/base.py:572: size=560 B (+560 B), count=1 (+1), average=560 B\n",
      "/tmp/ipykernel_62722/1644379772.py:10: size=540 B (+540 B), count=10 (+10), average=54 B\n",
      "/tmp/ipykernel_62722/1644379772.py:12: size=416 B (+416 B), count=1 (+1), average=416 B\n",
      "/tmp/ipykernel_62722/1644379772.py:4: size=0 B (-416 B), count=0 (-1)\n"
     ]
    }
   ],
   "source": [
    "import tracemalloc\n",
    "\n",
    "tracemalloc.start()\n",
    "snapshot1 = tracemalloc.take_snapshot()\n",
    "\n",
    "num_rows = 1000000  # Example: 1 million rows\n",
    "num_cols = 10       # Example: 10 columns\n",
    "data = np.random.rand(num_rows, num_cols) # Generates random numbers between 0 and 1\n",
    "df = pd.DataFrame(data)\n",
    "df.columns = ['col_' + str(i) for i in range(num_cols)]\n",
    "\n",
    "snapshot2 = tracemalloc.take_snapshot()\n",
    "top_stats = snapshot2.compare_to(snapshot1, 'lineno')\n",
    "for stat in top_stats[:5]:\n",
    "    print(stat)"
   ]
  },
  {
   "cell_type": "code",
   "execution_count": null,
   "id": "e1d4bae1",
   "metadata": {},
   "outputs": [],
   "source": []
  }
 ],
 "metadata": {
  "kernelspec": {
   "display_name": "Python 3 (ipykernel)",
   "language": "python",
   "name": "python3"
  },
  "language_info": {
   "codemirror_mode": {
    "name": "ipython",
    "version": 3
   },
   "file_extension": ".py",
   "mimetype": "text/x-python",
   "name": "python",
   "nbconvert_exporter": "python",
   "pygments_lexer": "ipython3",
   "version": "3.10.12"
  }
 },
 "nbformat": 4,
 "nbformat_minor": 5
}
