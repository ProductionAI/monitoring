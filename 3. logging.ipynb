{
 "cells": [
  {
   "cell_type": "markdown",
   "id": "9d068d08",
   "metadata": {},
   "source": [
    "[logging library](https://docs.python.org/3/library/logging.html)"
   ]
  },
  {
   "cell_type": "code",
   "execution_count": 2,
   "id": "808f55fe",
   "metadata": {},
   "outputs": [],
   "source": [
    "import logging\n",
    "\n",
    "logging.basicConfig(\n",
    "    level=logging.INFO,\n",
    "    format='%(asctime)s - %(name)s - %(levelname)s - %(message)s',\n",
    "    filename='app.log'\n",
    ")\n",
    "\n",
    "logger = logging.getLogger(__name__)\n",
    "logger.info(\"Application started\")\n",
    "try:\n",
    "    x = 3/0\n",
    "except Exception as e:\n",
    "    logger.error(f\"Error occurred: {e}\", exc_info=True)"
   ]
  },
  {
   "cell_type": "markdown",
   "id": "cdd79963",
   "metadata": {},
   "source": [
    "[structlog](https://www.structlog.org/en/stable/getting-started.html)"
   ]
  },
  {
   "cell_type": "code",
   "execution_count": 4,
   "id": "ebcb15f0",
   "metadata": {},
   "outputs": [
    {
     "name": "stdout",
     "output_type": "stream",
     "text": [
      "Collecting structlog\n",
      "  Downloading structlog-25.2.0-py3-none-any.whl.metadata (8.6 kB)\n",
      "Requirement already satisfied: typing-extensions in /usr/local/lib/python3.10/dist-packages (from structlog) (4.12.2)\n",
      "Downloading structlog-25.2.0-py3-none-any.whl (68 kB)\n",
      "\u001b[2K   \u001b[90m━━━━━━━━━━━━━━━━━━━━━━━━━━━━━━━━━━━━━━━━\u001b[0m \u001b[32m68.4/68.4 kB\u001b[0m \u001b[31m1.5 MB/s\u001b[0m eta \u001b[36m0:00:00\u001b[0ma \u001b[36m0:00:01\u001b[0m\n",
      "\u001b[?25hInstalling collected packages: structlog\n",
      "Successfully installed structlog-25.2.0\n",
      "\u001b[33mWARNING: Running pip as the 'root' user can result in broken permissions and conflicting behaviour with the system package manager. It is recommended to use a virtual environment instead: https://pip.pypa.io/warnings/venv\u001b[0m\u001b[33m\n",
      "\u001b[0m"
     ]
    }
   ],
   "source": [
    "!pip install structlog"
   ]
  },
  {
   "cell_type": "code",
   "execution_count": 5,
   "id": "57e98e9a",
   "metadata": {},
   "outputs": [
    {
     "name": "stdout",
     "output_type": "stream",
     "text": [
      "{\"user_id\": 123, \"action\": \"login\", \"event\": \"Event occurred\"}\n"
     ]
    }
   ],
   "source": [
    "import structlog\n",
    "\n",
    "structlog.configure(\n",
    "    processors=[structlog.processors.JSONRenderer()],\n",
    "    logger_factory=structlog.PrintLoggerFactory()\n",
    ")\n",
    "\n",
    "log = structlog.get_logger()\n",
    "log.info(\"Event occurred\", user_id=123, action=\"login\")"
   ]
  },
  {
   "cell_type": "code",
   "execution_count": null,
   "id": "7257f700",
   "metadata": {},
   "outputs": [],
   "source": []
  }
 ],
 "metadata": {
  "kernelspec": {
   "display_name": "Python 3 (ipykernel)",
   "language": "python",
   "name": "python3"
  },
  "language_info": {
   "codemirror_mode": {
    "name": "ipython",
    "version": 3
   },
   "file_extension": ".py",
   "mimetype": "text/x-python",
   "name": "python",
   "nbconvert_exporter": "python",
   "pygments_lexer": "ipython3",
   "version": "3.10.12"
  }
 },
 "nbformat": 4,
 "nbformat_minor": 5
}
