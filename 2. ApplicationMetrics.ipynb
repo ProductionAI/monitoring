{
 "cells": [
  {
   "cell_type": "code",
   "execution_count": 2,
   "id": "31ff0957",
   "metadata": {},
   "outputs": [
    {
     "name": "stdout",
     "output_type": "stream",
     "text": [
      "Requirement already satisfied: prometheus-client in /usr/local/lib/python3.10/dist-packages (0.20.0)\n",
      "\u001b[33mWARNING: Running pip as the 'root' user can result in broken permissions and conflicting behaviour with the system package manager. It is recommended to use a virtual environment instead: https://pip.pypa.io/warnings/venv\u001b[0m\u001b[33m\n",
      "\u001b[0m"
     ]
    }
   ],
   "source": [
    "!pip install prometheus-client\n"
   ]
  },
  {
   "cell_type": "code",
   "execution_count": null,
   "id": "b06866c2",
   "metadata": {},
   "outputs": [],
   "source": [
    "from prometheus_client import start_http_server, Gauge\n",
    "import psutil\n",
    "import time\n",
    "\n",
    "CPU_USAGE = Gauge('cpu_usage_percent', 'CPU usage')\n",
    "RAM_USAGE = Gauge('ram_usage_percent', 'RAM usage percentage')\n",
    "\n",
    "\n",
    "if __name__ == '__main__':\n",
    "    start_http_server(8000)\n",
    "    while True:\n",
    "        RAM_USAGE.set(psutil.virtual_memory().percent)\n",
    "        CPU_USAGE.set(psutil.cpu_percent(interval=1))\n",
    "        time.sleep(1)"
   ]
  }
 ],
 "metadata": {
  "kernelspec": {
   "display_name": "Python 3 (ipykernel)",
   "language": "python",
   "name": "python3"
  },
  "language_info": {
   "codemirror_mode": {
    "name": "ipython",
    "version": 3
   },
   "file_extension": ".py",
   "mimetype": "text/x-python",
   "name": "python",
   "nbconvert_exporter": "python",
   "pygments_lexer": "ipython3",
   "version": "3.10.12"
  }
 },
 "nbformat": 4,
 "nbformat_minor": 5
}
